{
 "cells": [
  {
   "cell_type": "code",
   "execution_count": 1,
   "metadata": {},
   "outputs": [],
   "source": [
    "from pathlib import Path\n",
    "import numpy as np\n",
    "import os,sys\n",
    "import pandas as pd\n",
    "import os\n",
    "import skseq\n",
    "from skseq.sequences.extended_feature import ExtendedFeatures\n",
    "import utils\n",
    "import skseq.sequences.structured_perceptron as spc\n",
    "\n",
    "currentdir = Path.cwd()\n",
    "parentdir = os.path.dirname(currentdir)\n",
    "sys.path.insert(0,parentdir) \n",
    "\n",
    "N_EPOCHS = 15\n"
   ]
  },
  {
   "cell_type": "markdown",
   "metadata": {},
   "source": [
    "# Structured Perceptron"
   ]
  },
  {
   "cell_type": "markdown",
   "metadata": {},
   "source": [
    "We need a sequence with each sentence, x having every word in a string and the tags in another vector"
   ]
  },
  {
   "cell_type": "code",
   "execution_count": null,
   "metadata": {},
   "outputs": [],
   "source": [
    "X_tr, y_tr = utils.gen_set(\"./data/train_data_ner.csv\")\n",
    "X_test, y_test = utils.gen_set(\"./data/test_data_ner.csv\")\n",
    "X_tiny, y_tiny = utils.gen_set(\"./data/tiny_test.csv\")"
   ]
  },
  {
   "cell_type": "markdown",
   "metadata": {},
   "source": [
    "To create a sequence list, first we need a dictionary for the words and another for the tags"
   ]
  },
  {
   "cell_type": "code",
   "execution_count": null,
   "metadata": {},
   "outputs": [],
   "source": [
    "word_dict, tag_dict, rev_dict = utils.dictionary(X_tr, y_tr)"
   ]
  },
  {
   "cell_type": "markdown",
   "metadata": {},
   "source": [
    "We use the class SequenceList from the skseq package used in the code provided in class. This package also includes a class for dictionaries called LabelDictionary defines some useful functions needed for creating the sequence, so we need to transform our dictionaries into these ones."
   ]
  },
  {
   "cell_type": "code",
   "execution_count": null,
   "metadata": {},
   "outputs": [],
   "source": [
    "seq = utils.get_seq(word_dict, tag_dict, X_tr, y_tr)"
   ]
  },
  {
   "cell_type": "markdown",
   "metadata": {},
   "source": [
    "## Base Model"
   ]
  },
  {
   "cell_type": "code",
   "execution_count": null,
   "metadata": {},
   "outputs": [],
   "source": [
    "feature_mapper = skseq.sequences.id_feature.IDFeatures(seq)"
   ]
  },
  {
   "cell_type": "code",
   "execution_count": null,
   "metadata": {},
   "outputs": [],
   "source": [
    "feature_mapper.build_features()"
   ]
  },
  {
   "cell_type": "code",
   "execution_count": null,
   "metadata": {},
   "outputs": [
    {
     "name": "stdout",
     "output_type": "stream",
     "text": [
      "Epoch: 0 Accuracy: 0.893522\n",
      "Epoch: 1 Accuracy: 0.931903\n",
      "Epoch: 2 Accuracy: 0.941308\n",
      "Epoch: 3 Accuracy: 0.946066\n",
      "Epoch: 4 Accuracy: 0.949996\n",
      "Epoch: 5 Accuracy: 0.952464\n",
      "Epoch: 6 Accuracy: 0.954540\n",
      "Epoch: 7 Accuracy: 0.956122\n",
      "Epoch: 8 Accuracy: 0.957765\n",
      "Epoch: 9 Accuracy: 0.957984\n"
     ]
    }
   ],
   "source": [
    "sp = spc.StructuredPerceptron(word_dict, tag_dict, feature_mapper)\n",
    "sp.num_epochs = 5\n",
    "pred_train = sp.viterbi_decode_corpus(seq)\n",
    "sp.fit(feature_mapper.dataset, N_EPOCHS)"
   ]
  },
  {
   "cell_type": "code",
   "execution_count": null,
   "metadata": {},
   "outputs": [],
   "source": [
    "sp.save_model(\"./fitted_models/sp_base_\")"
   ]
  },
  {
   "cell_type": "markdown",
   "metadata": {},
   "source": [
    "## Extended Features"
   ]
  },
  {
   "cell_type": "code",
   "execution_count": null,
   "metadata": {},
   "outputs": [],
   "source": [
    "feature_mapper_extra = ExtendedFeatures(seq)\n",
    "feature_mapper_extra.build_features()"
   ]
  },
  {
   "cell_type": "code",
   "execution_count": null,
   "metadata": {},
   "outputs": [],
   "source": [
    "sp = spc.StructuredPerceptron(word_dict, tag_dict, feature_mapper_extra)\n",
    "sp.num_epochs = 5"
   ]
  },
  {
   "cell_type": "code",
   "execution_count": null,
   "metadata": {},
   "outputs": [],
   "source": [
    "_ = sp.viterbi_decode_corpus(seq)"
   ]
  },
  {
   "cell_type": "code",
   "execution_count": null,
   "metadata": {},
   "outputs": [
    {
     "name": "stdout",
     "output_type": "stream",
     "text": [
      "Epoch: 0 Accuracy: 0.927759\n",
      "Epoch: 1 Accuracy: 0.943190\n",
      "Epoch: 2 Accuracy: 0.947456\n",
      "Epoch: 3 Accuracy: 0.950061\n",
      "Epoch: 4 Accuracy: 0.951921\n",
      "Epoch: 5 Accuracy: 0.953107\n",
      "Epoch: 6 Accuracy: 0.954318\n",
      "Epoch: 7 Accuracy: 0.955487\n",
      "Epoch: 8 Accuracy: 0.956453\n",
      "Epoch: 9 Accuracy: 0.957303\n"
     ]
    }
   ],
   "source": [
    "sp.fit(feature_mapper_extra.dataset, N_EPOCHS)"
   ]
  },
  {
   "cell_type": "code",
   "execution_count": null,
   "metadata": {},
   "outputs": [],
   "source": [
    "sp.save_model(\"./fitted_models/sp_ext_\")"
   ]
  },
  {
   "cell_type": "markdown",
   "metadata": {},
   "source": [
    "# Deep Learning"
   ]
  },
  {
   "cell_type": "markdown",
   "metadata": {},
   "source": []
  }
 ],
 "metadata": {
  "kernelspec": {
   "display_name": "Python 3",
   "language": "python",
   "name": "python3"
  },
  "language_info": {
   "codemirror_mode": {
    "name": "ipython",
    "version": 3
   },
   "file_extension": ".py",
   "mimetype": "text/x-python",
   "name": "python",
   "nbconvert_exporter": "python",
   "pygments_lexer": "ipython3",
   "version": "3.10.11"
  }
 },
 "nbformat": 4,
 "nbformat_minor": 2
}
